{
 "cells": [
  {
   "cell_type": "code",
   "execution_count": 1,
   "id": "43ae2435-579f-4296-8db8-fca3e05fa869",
   "metadata": {},
   "outputs": [
    {
     "name": "stdout",
     "output_type": "stream",
     "text": [
      "Accuracy: 0.5\n",
      "\n",
      "Classification Report:\n",
      "               precision    recall  f1-score   support\n",
      "\n",
      "           0       0.50      0.67      0.57         3\n",
      "           1       0.50      0.33      0.40         3\n",
      "\n",
      "    accuracy                           0.50         6\n",
      "   macro avg       0.50      0.50      0.49         6\n",
      "weighted avg       0.50      0.50      0.49         6\n",
      "\n",
      "\n",
      "Decision Tree Rules:\n",
      "\n",
      "|--- Request_Rate (req/s) <= 378.00\n",
      "|   |--- class: 0\n",
      "|--- Request_Rate (req/s) >  378.00\n",
      "|   |--- Network_Latency (ms) <= 39.00\n",
      "|   |   |--- class: 1\n",
      "|   |--- Network_Latency (ms) >  39.00\n",
      "|   |   |--- Time_of_Day <= 11.50\n",
      "|   |   |   |--- Disk_IO (MB/s) <= 15.80\n",
      "|   |   |   |   |--- class: 1\n",
      "|   |   |   |--- Disk_IO (MB/s) >  15.80\n",
      "|   |   |   |   |--- class: 0\n",
      "|   |   |--- Time_of_Day >  11.50\n",
      "|   |   |   |--- Request_Rate (req/s) <= 434.00\n",
      "|   |   |   |   |--- class: 0\n",
      "|   |   |   |--- Request_Rate (req/s) >  434.00\n",
      "|   |   |   |   |--- class: 1\n",
      "\n"
     ]
    },
    {
     "data": {
      "image/png": "[encoded data removed]",
      "text/plain": [
       "<Figure size 600x400 with 2 Axes>"
      ]
     },
     "metadata": {},
     "output_type": "display_data"
    }
   ],
   "source": [
    "\n",
    "import pandas as pd\n",
    "import matplotlib.pyplot as plt\n",
    "import seaborn as sns\n",
    "from sklearn.model_selection import train_test_split\n",
    "from sklearn.tree import DecisionTreeClassifier, export_text\n",
    "from sklearn.metrics import classification_report, accuracy_score, confusion_matrix\n",
    "from sklearn.preprocessing import LabelEncoder\n",
    "\n",
    "# Load dataset\n",
    "df = pd.read_csv(\"cloud_fault_detection_sample_dataset.csv\")\n",
    "\n",
    "# Encode categorical variables\n",
    "label_encoders = {}\n",
    "for col in ['Instance_Type', 'Service_Type', 'Fault_Status']:\n",
    "    le = LabelEncoder()\n",
    "    df[col] = le.fit_transform(df[col])\n",
    "    label_encoders[col] = le\n",
    "\n",
    "# Features and Target\n",
    "X = df.drop('Fault_Status', axis=1)\n",
    "y = df['Fault_Status']\n",
    "\n",
    "# Split into training and testing sets\n",
    "X_train, X_test, y_train, y_test = train_test_split(X, y, test_size=0.2, random_state=42)\n",
    "\n",
    "# Initialize and train Decision Tree Classifier\n",
    "clf = DecisionTreeClassifier(random_state=42)\n",
    "clf.fit(X_train, y_train)\n",
    "\n",
    "# Predict and Evaluate\n",
    "y_pred = clf.predict(X_test)\n",
    "accuracy = accuracy_score(y_test, y_pred)\n",
    "report = classification_report(y_test, y_pred)\n",
    "conf_matrix = confusion_matrix(y_test, y_pred)\n",
    "\n",
    "# Display Results\n",
    "print(\"Accuracy:\", accuracy)\n",
    "print(\"\\nClassification Report:\\n\", report)\n",
    "print(\"\\nDecision Tree Rules:\\n\")\n",
    "print(export_text(clf, feature_names=list(X.columns)))\n",
    "\n",
    "# Plot confusion matrix\n",
    "plt.figure(figsize=(6, 4))\n",
    "sns.heatmap(conf_matrix, annot=True, fmt='d', cmap='Blues', \n",
    "            xticklabels=label_encoders['Fault_Status'].classes_, \n",
    "            yticklabels=label_encoders['Fault_Status'].classes_)\n",
    "plt.title(\"Confusion Matrix\")\n",
    "plt.xlabel(\"Predicted\")\n",
    "plt.ylabel(\"Actual\")\n",
    "plt.tight_layout()\n",
    "plt.savefig(\"confusion_matrix.png\")\n",
    "plt.show()\n"
   ]
  },
  {
   "cell_type": "code",
   "execution_count": null,
   "id": "f77922e8-dae1-4533-bb3e-7aa29f67b79a",
   "metadata": {},
   "outputs": [],
   "source": []
  }
 ],
 "metadata": {
  "kernelspec": {
   "display_name": "Python 3 (ipykernel)",
   "language": "python",
   "name": "python3"
  },
  "language_info": {
   "codemirror_mode": {
    "name": "ipython",
    "version": 3
   },
   "file_extension": ".py",
   "mimetype": "text/x-python",
   "name": "python",
   "nbconvert_exporter": "python",
   "pygments_lexer": "ipython3",
   "version": "3.10.11"
  }
 },
 "nbformat": 4,
 "nbformat_minor": 5
}
